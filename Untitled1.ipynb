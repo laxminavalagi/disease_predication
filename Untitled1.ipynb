{
 "cells": [
  {
   "cell_type": "code",
   "execution_count": 1,
   "id": "b6f49c1e",
   "metadata": {},
   "outputs": [],
   "source": [
    "from tkinter import *\n",
    "import numpy as np\n",
    "import pandas as pd\n",
    "# from gui_stuff import *\n"
   ]
  },
  {
   "cell_type": "code",
   "execution_count": 2,
   "id": "7f10e802",
   "metadata": {},
   "outputs": [],
   "source": [
    "l1=['back_pain','constipation','abdominal_pain','diarrhoea','mild_fever','yellow_urine',\n",
    "'yellowing_of_eyes','acute_liver_failure','fluid_overload','swelling_of_stomach',\n",
    "'swelled_lymph_nodes','malaise','blurred_and_distorted_vision','phlegm','throat_irritation',\n",
    "'redness_of_eyes','sinus_pressure','runny_nose','congestion','chest_pain','weakness_in_limbs',\n",
    "'fast_heart_rate','pain_during_bowel_movements','pain_in_anal_region','bloody_stool',\n",
    "'irritation_in_anus','neck_pain','dizziness','cramps','bruising','obesity','swollen_legs',\n",
    "'swollen_blood_vessels','puffy_face_and_eyes','enlarged_thyroid','brittle_nails',\n",
    "'swollen_extremeties','excessive_hunger','extra_marital_contacts','drying_and_tingling_lips',\n",
    "'slurred_speech','knee_pain','hip_joint_pain','muscle_weakness','stiff_neck','swelling_joints',\n",
    "'movement_stiffness','spinning_movements','loss_of_balance','unsteadiness',\n",
    "'weakness_of_one_body_side','loss_of_smell','bladder_discomfort','foul_smell_of urine',\n",
    "'continuous_feel_of_urine','passage_of_gases','internal_itching','toxic_look_(typhos)',\n",
    "'depression','irritability','muscle_pain','altered_sensorium','red_spots_over_body','belly_pain',\n",
    "'abnormal_menstruation','dischromic _patches','watering_from_eyes','increased_appetite','polyuria','family_history','mucoid_sputum',\n",
    "'rusty_sputum','lack_of_concentration','visual_disturbances','receiving_blood_transfusion',\n",
    "'receiving_unsterile_injections','coma','stomach_bleeding','distention_of_abdomen',\n",
    "'history_of_alcohol_consumption','fluid_overload','blood_in_sputum','prominent_veins_on_calf',\n",
    "'palpitations','painful_walking','pus_filled_pimples','blackheads','scurring','skin_peeling',\n",
    "'silver_like_dusting','small_dents_in_nails','inflammatory_nails','blister','red_sore_around_nose',\n",
    "'yellow_crust_ooze']\n"
   ]
  },
  {
   "cell_type": "code",
   "execution_count": 3,
   "id": "560d1dcf",
   "metadata": {},
   "outputs": [],
   "source": [
    "disease=['Fungal infection','Allergy','GERD','Chronic cholestasis','Drug Reaction',\n",
    "'Peptic ulcer diseae','AIDS','Diabetes','Gastroenteritis','Bronchial Asthma','Hypertension',\n",
    "' Migraine','Cervical spondylosis',\n",
    "'Paralysis (brain hemorrhage)','Jaundice','Malaria','Chicken pox','Dengue','Typhoid','hepatitis A',\n",
    "'Hepatitis B','Hepatitis C','Hepatitis D','Hepatitis E','Alcoholic hepatitis','Tuberculosis',\n",
    "'Common Cold','Pneumonia','Dimorphic hemmorhoids(piles)',\n",
    "'Heartattack','Varicoseveins','Hypothyroidism','Hyperthyroidism','Hypoglycemia','Osteoarthristis',\n",
    "'Arthritis','(vertigo) Paroymsal  Positional Vertigo','Acne','Urinary tract infection','Psoriasis',\n",
    "'Impetigo']\n"
   ]
  },
  {
   "cell_type": "code",
   "execution_count": null,
   "id": "6939a2b4",
   "metadata": {},
   "outputs": [],
   "source": []
  }
 ],
 "metadata": {
  "kernelspec": {
   "display_name": "Python 3 (ipykernel)",
   "language": "python",
   "name": "python3"
  },
  "language_info": {
   "codemirror_mode": {
    "name": "ipython",
    "version": 3
   },
   "file_extension": ".py",
   "mimetype": "text/x-python",
   "name": "python",
   "nbconvert_exporter": "python",
   "pygments_lexer": "ipython3",
   "version": "3.9.12"
  }
 },
 "nbformat": 4,
 "nbformat_minor": 5
}
